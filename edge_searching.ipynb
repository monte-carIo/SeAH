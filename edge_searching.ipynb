{
 "cells": [
  {
   "cell_type": "code",
   "execution_count": 1,
   "metadata": {},
   "outputs": [],
   "source": [
    "import cv2\n",
    "import numpy as np\n",
    "MIN_ANGLE_DIFF = 10\n",
    "W_SIZE = 35\n",
    "import matplotlib.pyplot as plt\n",
    "\n",
    "# from edge_searching import *\n",
    "from edge_searching_psuedo import *\n",
    "from curve_fitting import *"
   ]
  },
  {
   "cell_type": "code",
   "execution_count": 4,
   "metadata": {},
   "outputs": [
    {
     "name": "stdout",
     "output_type": "stream",
     "text": [
      "['/home/pronton/SeAH/data/cam4_20230907_143145/350.jpg', '/home/pronton/SeAH/data/cam4_20230907_143145/360.jpg', '/home/pronton/SeAH/data/cam4_20230907_143145/370.jpg', '/home/pronton/SeAH/data/cam4_20230907_143145/380.jpg', '/home/pronton/SeAH/data/cam4_20230907_143145/390.jpg']\n"
     ]
    }
   ],
   "source": [
    "\n",
    "impath = '/home/pronton/SeAH/data/cam4_20230907_143145/'\n",
    "# impath = '/home/pronton/SeAH/data/cam3_20230907_143145/'\n",
    "img_paths = [impath + str(idx) + '.jpg' for idx in list(range(350,400,10))]\n",
    "print(img_paths)"
   ]
  },
  {
   "cell_type": "code",
   "execution_count": null,
   "metadata": {},
   "outputs": [],
   "source": [
    "img = cv2.imread('/home/pronton/SeAH/data/cam4_20230907_143145/.jpg')\n",
    "inner_segs, outer_segs = sliding_window(img, debug=False)"
   ]
  },
  {
   "cell_type": "code",
   "execution_count": null,
   "metadata": {},
   "outputs": [],
   "source": [
    "n_rows = len(img_paths)\n",
    "fig, aux = plt.subplots(nrows=2, ncols=n_rows, sharex=True, sharey=True, figsize=(20, 10))\n",
    "\n",
    "print(aux[0])\n",
    "\n",
    "camRight = True\n",
    "for i in range(0, n_rows, 1):\n",
    "    # slide window\n",
    "    img = cv2.imread(img_paths[i]) # img = cv2.imread(argv[1])\n",
    "    inner_segs, outer_segs = sliding_window(img, debug=False, camRight=camRight)\n",
    "    scale = .5\n",
    "    img = cv2.resize(img, (0,0), fx = scale, fy = scale)\n",
    "    h = img.shape[:2]\n",
    "\n",
    "    if not camRight:\n",
    "        img = cv2.flip(img, 1)\n",
    "\n",
    "    # curve fitting\n",
    "    segs = np.array(inner_segs)\n",
    "    y = np.concatenate((segs[:, 0], segs[:, 2]) , axis = 0).reshape(-1, 1)\n",
    "    X = np.concatenate((segs[:, 1], segs[:, 3]) , axis = 0).reshape(-1, 1)\n",
    "    aux[0][i].imshow(img[:,:,::-1],  aspect=\"auto\")\n",
    "    aux[0][i].scatter(y, X, s = 5)\n",
    "    model = curve_fit(X, y)\n",
    "    X_test, y_pred = predict_curve(X,y,model)\n",
    "    aux[1][i].plot(y_pred, X_test )\n",
    "\n",
    "    segs = np.array(outer_segs)\n",
    "    y = np.concatenate((segs[:, 0], segs[:, 2]) , axis = 0).reshape(-1, 1)\n",
    "    X = np.concatenate((segs[:, 1], segs[:, 3]) , axis = 0).reshape(-1, 1)\n",
    "    aux[0][i].scatter(y, X, s = 5)\n",
    "    model = curve_fit(X, y)\n",
    "    X_test, y_pred = predict_curve(X,y,model)\n",
    "    aux[1][i].plot(y_pred, X_test)\n",
    "    aux[1][i].imshow(img[:,:,::-1],  aspect=\"auto\")\n",
    "\n",
    "    # aux[1][i].invert_yaxis()\n",
    "    # aux[0][i].invert_yaxis()\n",
    "    if not camRight:\n",
    "        plt.axis([w,0,h,0])\n",
    "    fig.tight_layout()\n",
    "    # plt.show()\n"
   ]
  },
  {
   "cell_type": "code",
   "execution_count": null,
   "metadata": {},
   "outputs": [],
   "source": [
    "n_rows = len(img_paths)\n",
    "fig, aux = plt.subplots(nrows=2, ncols=n_rows, sharex=True, sharey=True, figsize=(20, 10))\n",
    "\n",
    "print(aux[0])\n",
    "\n",
    "camRight = False\n",
    "for i in range(0, n_rows, 1):\n",
    "    # slide window\n",
    "    img = cv2.imread(img_paths[i]) # img = cv2.imread(argv[1])\n",
    "    inner_segs, outer_segs = sliding_window(img, debug=False, camRight=camRight)\n",
    "    scale = .5\n",
    "    img = cv2.resize(img, (0,0), fx = scale, fy = scale)\n",
    "    h = img.shape[:2]\n",
    "\n",
    "    if not camRight:\n",
    "        img = cv2.flip(img, 1)\n",
    "\n",
    "    # curve fitting\n",
    "    segs = np.array(inner_segs)\n",
    "    y = np.concatenate((segs[:, 0], segs[:, 2]) , axis = 0).reshape(-1, 1)\n",
    "    X = np.concatenate((segs[:, 1], segs[:, 3]) , axis = 0).reshape(-1, 1)\n",
    "    aux[0][i].imshow(img[:,:,::-1],  aspect=\"auto\")\n",
    "    aux[0][i].scatter(y, X, s = 5)\n",
    "    model = curve_fit(X, y)\n",
    "    X_test, y_pred = predict_curve(X,y,model)\n",
    "    aux[1][i].plot(y_pred, X_test )\n",
    "\n",
    "    segs = np.array(outer_segs)\n",
    "    y = np.concatenate((segs[:, 0], segs[:, 2]) , axis = 0).reshape(-1, 1)\n",
    "    X = np.concatenate((segs[:, 1], segs[:, 3]) , axis = 0).reshape(-1, 1)\n",
    "    aux[0][i].scatter(y, X, s = 5)\n",
    "    model = curve_fit(X, y)\n",
    "    X_test, y_pred = predict_curve(X,y,model)\n",
    "    aux[1][i].plot(y_pred, X_test)\n",
    "    aux[1][i].imshow(img[:,:,::-1],  aspect=\"auto\")\n",
    "\n",
    "    # aux[1][i].invert_yaxis()\n",
    "    # aux[0][i].invert_yaxis()\n",
    "    plt.axis([w,0,h,0])\n",
    "    fig.tight_layout()\n",
    "    # plt.show()\n"
   ]
  },
  {
   "cell_type": "code",
   "execution_count": null,
   "metadata": {},
   "outputs": [],
   "source": [
    "segs = np.array(outer_segs)\n",
    "y = np.concatenate((segs[:, 0], segs[:, 2]) , axis = 0).reshape(-1, 1)\n",
    "X = np.concatenate((segs[:, 1], segs[:, 3]) , axis = 0).reshape(-1, 1)\n",
    "plt.scatter(y, X, s = 5)\n",
    "model = curve_fit(X, y)\n",
    "X_test, y_pred = predict_curve(X,y,model)\n",
    "plt.plot(y_pred, X_test)\n",
    "plt.imshow(img[:,:,::-1],  aspect=\"auto\")\n",
    "fig.tight_layout()"
   ]
  },
  {
   "cell_type": "code",
   "execution_count": null,
   "metadata": {},
   "outputs": [],
   "source": [
    "n_rows = len(img_paths)\n",
    "fig, aux = plt.subplots(nrows=n_rows, ncols=2, sharex=True, sharey=True, figsize=(5, 15))\n",
    "\n",
    "print(aux[0])\n",
    "\n",
    "for i in range(0, n_rows, 1):\n",
    "    # slide window\n",
    "    img = cv2.imread(img_paths[i]) # img = cv2.imread(argv[1])\n",
    "    inner_segs, outer_segs = sliding_window(img, debug=False)\n",
    "    scale = .5\n",
    "    img = cv2.resize(img, (0,0), fx = scale, fy = scale)\n",
    "\n",
    "    # curve fitting\n",
    "    segs = np.array(inner_segs)\n",
    "    X = np.concatenate((segs[:, 0], segs[:, 2]) , axis = 0).reshape(-1, 1)\n",
    "    y = np.concatenate((segs[:, 1], segs[:, 3]) , axis = 0).reshape(-1, 1)\n",
    "    aux[i][0].imshow(img[:,:,::-1],  aspect=\"auto\")\n",
    "    aux[i][0].scatter(X, y, s = 5)\n",
    "    model = curve_fit(X, y, SplineTransformer(n_knots=4, degree=3))\n",
    "    X_test, y_pred = predict_curve(X,y,model)\n",
    "    aux[i][1].plot(X_test, y_pred, )\n",
    "\n",
    "    segs = np.array(outer_segs)\n",
    "    X = np.concatenate((segs[:, 0], segs[:, 2]) , axis = 0).reshape(-1, 1)\n",
    "    y = np.concatenate((segs[:, 1], segs[:, 3]) , axis = 0).reshape(-1, 1)\n",
    "    aux[i][0].scatter(X, y, s = 5)\n",
    "    model = curve_fit(X, y, SplineTransformer(n_knots=4, degree=3))\n",
    "    X_test, y_pred = predict_curve(X,y,model)\n",
    "    aux[i][1].plot(X_test, y_pred)\n",
    "    aux[i][1].imshow(img[:,:,::-1],  aspect=\"auto\")\n",
    "    fig.tight_layout()"
   ]
  },
  {
   "cell_type": "code",
   "execution_count": null,
   "metadata": {},
   "outputs": [],
   "source": [
    "segs = np.array(inner_segs)\n",
    "X = np.concatenate((segs[:, 0], segs[:, 2]) , axis = 0).reshape(-1, 1)\n",
    "y = np.concatenate((segs[:, 1], segs[:, 3]) , axis = 0).reshape(-1, 1)\n",
    "model = curve_fit(X, y)\n",
    "X_test, y_pred = predict_curve(X,y,model)\n",
    "ax = plt.scatter(X_test, y_pred).axes\n",
    "plt.xlim([0,383])\n",
    "plt.ylim([0,723])\n",
    "ax.invert_yaxis()"
   ]
  },
  {
   "cell_type": "code",
   "execution_count": null,
   "metadata": {},
   "outputs": [],
   "source": []
  }
 ],
 "metadata": {
  "kernelspec": {
   "display_name": "SeAH",
   "language": "python",
   "name": "python3"
  },
  "language_info": {
   "codemirror_mode": {
    "name": "ipython",
    "version": 3
   },
   "file_extension": ".py",
   "mimetype": "text/x-python",
   "name": "python",
   "nbconvert_exporter": "python",
   "pygments_lexer": "ipython3",
   "version": "3.8.10"
  }
 },
 "nbformat": 4,
 "nbformat_minor": 2
}
